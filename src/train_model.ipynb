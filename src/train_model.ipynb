{
 "cells": [
  {
   "cell_type": "code",
   "execution_count": 3,
   "id": "b34fcc58-a4b6-46a0-9897-53bd775956a8",
   "metadata": {},
   "outputs": [
    {
     "name": "stdout",
     "output_type": "stream",
     "text": [
      "Accuracy: 0.7945945945945946\n"
     ]
    },
    {
     "data": {
      "text/plain": [
       "['Octroi_credit_classification_model.pkl']"
      ]
     },
     "execution_count": 3,
     "metadata": {},
     "output_type": "execute_result"
    }
   ],
   "source": [
    "from sklearn.model_selection import train_test_split\n",
    "from sklearn.ensemble import RandomForestClassifier\n",
    "from sklearn.metrics import accuracy_score\n",
    "from sklearn.preprocessing import LabelEncoder\n",
    "import pandas as pd\n",
    "import joblib\n",
    "\n",
    "# Charger les données\n",
    "data = pd.read_csv(\"loan_sanction_train.csv\")\n",
    "\n",
    "# Préparation des données (à ajuster selon le dataset choisi)\n",
    "X = data.drop([\"Loan_Status\", \"Loan_ID\"], axis=1)\n",
    "y = data[\"Loan_Status\"]\n",
    "\n",
    "# Encoder les colonnes catégorielles\n",
    "# Appliquer un encodage LabelEncoder sur les colonnes catégorielles\n",
    "label_encoder = LabelEncoder()\n",
    "\n",
    "# Parcourir toutes les colonnes et encoder celles qui sont de type 'object' (chaîne de caractères)\n",
    "for column in X.columns:\n",
    "    if X[column].dtype == 'object':\n",
    "        X[column] = label_encoder.fit_transform(X[column])\n",
    "\n",
    "# Encoder la colonne cible si nécessaire\n",
    "y = label_encoder.fit_transform(y)\n",
    "\n",
    "# Diviser les données en ensembles d'entraînement et de test\n",
    "X_train, X_test, y_train, y_test = train_test_split(X, y, test_size=0.3, random_state=42)\n",
    "\n",
    "# Entraînement d'un modèle RandomForest\n",
    "clf = RandomForestClassifier()\n",
    "clf.fit(X_train, y_train)\n",
    "\n",
    "# Prédictions\n",
    "y_pred = clf.predict(X_test)\n",
    "print(\"Accuracy:\", accuracy_score(y_test, y_pred))\n",
    "\n",
    "\n",
    "# Sauvegarder le modèle\n",
    "joblib.dump(clf, \"Octroi_credit_classification_model.pkl\")"
   ]
  },
  {
   "cell_type": "code",
   "execution_count": null,
   "id": "bf147ce9-b9cf-465b-adaf-71d7a96c3ffb",
   "metadata": {},
   "outputs": [],
   "source": []
  }
 ],
 "metadata": {
  "kernelspec": {
   "display_name": "Python 3 (ipykernel)",
   "language": "python",
   "name": "python3"
  },
  "language_info": {
   "codemirror_mode": {
    "name": "ipython",
    "version": 3
   },
   "file_extension": ".py",
   "mimetype": "text/x-python",
   "name": "python",
   "nbconvert_exporter": "python",
   "pygments_lexer": "ipython3",
   "version": "3.12.4"
  }
 },
 "nbformat": 4,
 "nbformat_minor": 5
}
